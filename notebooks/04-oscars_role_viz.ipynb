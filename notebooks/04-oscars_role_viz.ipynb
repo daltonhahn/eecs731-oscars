{
 "cells": [
  {
   "cell_type": "markdown",
   "metadata": {},
   "source": [
    "# The Oscars\n",
    "\n",
    "Dalton Hahn (2762306)"
   ]
  },
  {
   "cell_type": "markdown",
   "metadata": {},
   "source": [
    "## Shakespearean Play Data\n",
    "\n",
    "https://www.kaggle.com/kingburrito666/shakespeare-plays/download"
   ]
  },
  {
   "cell_type": "markdown",
   "metadata": {},
   "source": [
    "## Data Visualization and Storytelling\n",
    "\n",
    "### \"What is the proportion of 'airtime' that Shakespeare grants to his main characters vs. his auxiliary characters\""
   ]
  },
  {
   "cell_type": "code",
   "execution_count": 7,
   "metadata": {},
   "outputs": [],
   "source": [
    "import warnings\n",
    "warnings.filterwarnings(\"ignore\")\n",
    "\n",
    "import pandas as pd\n",
    "import numpy as np\n",
    "import datetime as dt\n",
    "import seaborn as sns\n",
    "import matplotlib.pyplot as plt\n",
    "import math\n",
    "from statistics import mean, stdev"
   ]
  },
  {
   "cell_type": "code",
   "execution_count": 8,
   "metadata": {},
   "outputs": [],
   "source": [
    "df = pd.read_csv(\"../data/processed/roles.csv\")"
   ]
  },
  {
   "cell_type": "code",
   "execution_count": 9,
   "metadata": {},
   "outputs": [
    {
     "data": {
      "text/html": [
       "<div>\n",
       "<style scoped>\n",
       "    .dataframe tbody tr th:only-of-type {\n",
       "        vertical-align: middle;\n",
       "    }\n",
       "\n",
       "    .dataframe tbody tr th {\n",
       "        vertical-align: top;\n",
       "    }\n",
       "\n",
       "    .dataframe thead th {\n",
       "        text-align: right;\n",
       "    }\n",
       "</style>\n",
       "<table border=\"1\" class=\"dataframe\">\n",
       "  <thead>\n",
       "    <tr style=\"text-align: right;\">\n",
       "      <th></th>\n",
       "      <th>Unnamed: 0</th>\n",
       "      <th>Dataline</th>\n",
       "      <th>Play</th>\n",
       "      <th>PlayerLinenumber</th>\n",
       "      <th>ActSceneLine</th>\n",
       "      <th>Player</th>\n",
       "      <th>PlayerLine</th>\n",
       "      <th>Year</th>\n",
       "      <th>Main</th>\n",
       "    </tr>\n",
       "  </thead>\n",
       "  <tbody>\n",
       "    <tr>\n",
       "      <th>0</th>\n",
       "      <td>0</td>\n",
       "      <td>18569</td>\n",
       "      <td>ANTONY AND CLEOPATRA</td>\n",
       "      <td>1.0</td>\n",
       "      <td>1.1.1</td>\n",
       "      <td>PHILO</td>\n",
       "      <td>Nay, but this dotage of our general's</td>\n",
       "      <td>1607</td>\n",
       "      <td>0</td>\n",
       "    </tr>\n",
       "    <tr>\n",
       "      <th>1</th>\n",
       "      <td>1</td>\n",
       "      <td>18570</td>\n",
       "      <td>ANTONY AND CLEOPATRA</td>\n",
       "      <td>1.0</td>\n",
       "      <td>1.1.2</td>\n",
       "      <td>PHILO</td>\n",
       "      <td>O'erflows the measure: those his goodly eyes,</td>\n",
       "      <td>1607</td>\n",
       "      <td>0</td>\n",
       "    </tr>\n",
       "    <tr>\n",
       "      <th>2</th>\n",
       "      <td>2</td>\n",
       "      <td>18571</td>\n",
       "      <td>ANTONY AND CLEOPATRA</td>\n",
       "      <td>1.0</td>\n",
       "      <td>1.1.3</td>\n",
       "      <td>PHILO</td>\n",
       "      <td>That o'er the files and musters of the war</td>\n",
       "      <td>1607</td>\n",
       "      <td>0</td>\n",
       "    </tr>\n",
       "    <tr>\n",
       "      <th>3</th>\n",
       "      <td>3</td>\n",
       "      <td>18572</td>\n",
       "      <td>ANTONY AND CLEOPATRA</td>\n",
       "      <td>1.0</td>\n",
       "      <td>1.1.4</td>\n",
       "      <td>PHILO</td>\n",
       "      <td>Have glow'd like plated Mars, now bend, now turn,</td>\n",
       "      <td>1607</td>\n",
       "      <td>0</td>\n",
       "    </tr>\n",
       "    <tr>\n",
       "      <th>4</th>\n",
       "      <td>4</td>\n",
       "      <td>18573</td>\n",
       "      <td>ANTONY AND CLEOPATRA</td>\n",
       "      <td>1.0</td>\n",
       "      <td>1.1.5</td>\n",
       "      <td>PHILO</td>\n",
       "      <td>The office and devotion of their view</td>\n",
       "      <td>1607</td>\n",
       "      <td>0</td>\n",
       "    </tr>\n",
       "  </tbody>\n",
       "</table>\n",
       "</div>"
      ],
      "text/plain": [
       "   Unnamed: 0  Dataline                  Play  PlayerLinenumber ActSceneLine  \\\n",
       "0           0     18569  ANTONY AND CLEOPATRA               1.0        1.1.1   \n",
       "1           1     18570  ANTONY AND CLEOPATRA               1.0        1.1.2   \n",
       "2           2     18571  ANTONY AND CLEOPATRA               1.0        1.1.3   \n",
       "3           3     18572  ANTONY AND CLEOPATRA               1.0        1.1.4   \n",
       "4           4     18573  ANTONY AND CLEOPATRA               1.0        1.1.5   \n",
       "\n",
       "  Player                                         PlayerLine  Year  Main  \n",
       "0  PHILO              Nay, but this dotage of our general's  1607     0  \n",
       "1  PHILO      O'erflows the measure: those his goodly eyes,  1607     0  \n",
       "2  PHILO         That o'er the files and musters of the war  1607     0  \n",
       "3  PHILO  Have glow'd like plated Mars, now bend, now turn,  1607     0  \n",
       "4  PHILO              The office and devotion of their view  1607     0  "
      ]
     },
     "execution_count": 9,
     "metadata": {},
     "output_type": "execute_result"
    }
   ],
   "source": [
    "df.head()"
   ]
  },
  {
   "cell_type": "markdown",
   "metadata": {},
   "source": [
    "### Important Notes\n",
    "* Main column (0 = Secondary Character, 1 = Main Character)"
   ]
  },
  {
   "cell_type": "code",
   "execution_count": 10,
   "metadata": {},
   "outputs": [
    {
     "name": "stdout",
     "output_type": "stream",
     "text": [
      "['ANTONY AND CLEOPATRA' 'CORIOLANUS' 'HAMLET' 'JULIUS CAESAR' 'KING LEAR'\n",
      " 'MACBETH' 'OTHELLO' 'ROMEO AND JULIET' 'TIMON OF ATHENS'\n",
      " 'TROILUS AND CRESSIDA']\n"
     ]
    }
   ],
   "source": [
    "unique_plays = df[\"Play\"].unique()\n",
    "print(unique_plays)"
   ]
  },
  {
   "cell_type": "code",
   "execution_count": 13,
   "metadata": {},
   "outputs": [],
   "source": [
    "# NOTE, in my role_word_counts dictionary, the tuple of counts will be (Secondary, Main)\n",
    "\n",
    "role_word_counts = dict.fromkeys(unique_plays, (0,0))\n",
    "\n",
    "for index,row in df.iterrows():\n",
    "    if row[\"Main\"] == 0:\n",
    "        role_tuple = role_word_counts.get(row[\"Play\"])\n",
    "        new_sec_val = role_tuple[0] + len(row[\"PlayerLine\"].split())\n",
    "        fin_tuple = (new_sec_val, role_tuple[1])\n",
    "    else:\n",
    "        role_tuple = role_word_counts.get(row[\"Play\"])\n",
    "        new_main_val = role_tuple[1] + len(row[\"PlayerLine\"].split())\n",
    "        fin_tuple = (role_tuple[0], new_main_val)\n",
    "    \n",
    "    role_word_counts[row[\"Play\"]] = fin_tuple"
   ]
  },
  {
   "cell_type": "code",
   "execution_count": 14,
   "metadata": {},
   "outputs": [
    {
     "name": "stdout",
     "output_type": "stream",
     "text": [
      "{'ANTONY AND CLEOPATRA': (17835, 5936), 'CORIOLANUS': (21843, 4811), 'HAMLET': (18009, 11600), 'JULIUS CAESAR': (13706, 5413), 'KING LEAR': (19703, 5579), 'MACBETH': (16489, 0), 'OTHELLO': (19608, 6227), 'ROMEO AND JULIET': (19238, 4669), 'TIMON OF ATHENS': (11880, 6009), 'TROILUS AND CRESSIDA': (21557, 3949)}\n"
     ]
    }
   ],
   "source": [
    "print(role_word_counts)"
   ]
  },
  {
   "cell_type": "code",
   "execution_count": 15,
   "metadata": {},
   "outputs": [
    {
     "name": "stdout",
     "output_type": "stream",
     "text": [
      "[17835, 21843, 18009, 13706, 19703, 16489, 19608, 19238, 11880, 21557]\n",
      "[5936, 4811, 11600, 5413, 5579, 0, 6227, 4669, 6009, 3949]\n"
     ]
    }
   ],
   "source": [
    "# INSPIRATION: https://python-graph-gallery.com/11-grouped-barplot/\n",
    "\n",
    "# set width of bar\n",
    "barWidth = 0.4\n",
    " \n",
    "# set height of bar\n",
    "secondary_bars = []\n",
    "main_bars = []\n",
    "\n",
    "for key,val in role_word_counts.items():\n",
    "    secondary_bars.append(val[0])\n",
    "    main_bars.append(val[1])\n",
    "    \n",
    "print(secondary_bars)\n",
    "print(main_bars)"
   ]
  },
  {
   "cell_type": "code",
   "execution_count": 17,
   "metadata": {},
   "outputs": [
    {
     "data": {
      "image/png": "[encoded data removed]",
      "text/plain": [
       "<Figure size 1800x576 with 1 Axes>"
      ]
     },
     "metadata": {
      "needs_background": "light"
     },
     "output_type": "display_data"
    }
   ],
   "source": [
    " \n",
    "# Set position of bar on X axis\n",
    "r1 = np.arange(len(secondary_bars))\n",
    "r2 = [x + barWidth for x in r1]\n",
    " \n",
    "# Make the plot\n",
    "plt.figure(figsize=(25,8))\n",
    "plt.bar(r1, secondary_bars, color='#fc0069', width=barWidth, edgecolor='white', label='Secondary Character Words')\n",
    "plt.bar(r2, main_bars, color='#7e00fc', width=barWidth, edgecolor='white', label='Main Character Words')\n",
    " \n",
    "# Add xticks on the middle of the group bars\n",
    "plt.xlabel('Play', fontweight='bold')\n",
    "plt.xticks([r + barWidth for r in range(len(secondary_bars))], list(role_word_counts.keys()), rotation=90)\n",
    " \n",
    "# Create legend & Show graphic\n",
    "plt.legend()\n",
    "plt.show()"
   ]
  },
  {
   "cell_type": "markdown",
   "metadata": {},
   "source": [
    "# Conclusion\n",
    "\n",
    "**Caveat**: Primary vs. Secondary information from external source and not for all plays\n",
    "\n",
    "I think this bar chart turned out pretty good even though there was quite a bit of missing data and the data came from an external source that I kind of just eyeballed.  I also think that if given more time, rather than simply comparing word counts, a ratio of "
   ]
  }
 ],
 "metadata": {
  "kernelspec": {
   "display_name": "Python 3",
   "language": "python",
   "name": "python3"
  },
  "language_info": {
   "codemirror_mode": {
    "name": "ipython",
    "version": 3
   },
   "file_extension": ".py",
   "mimetype": "text/x-python",
   "name": "python",
   "nbconvert_exporter": "python",
   "pygments_lexer": "ipython3",
   "version": "3.7.4"
  }
 },
 "nbformat": 4,
 "nbformat_minor": 2
}
