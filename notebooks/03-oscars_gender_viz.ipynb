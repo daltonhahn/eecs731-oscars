{
 "cells": [
  {
   "cell_type": "markdown",
   "metadata": {},
   "source": [
    "# The Oscars\n",
    "\n",
    "Dalton Hahn (2762306)"
   ]
  },
  {
   "cell_type": "markdown",
   "metadata": {},
   "source": [
    "## Shakespearean Play Data\n",
    "\n",
    "https://www.kaggle.com/kingburrito666/shakespeare-plays/download"
   ]
  },
  {
   "cell_type": "markdown",
   "metadata": {},
   "source": [
    "## Data Visualization and Storytelling\n",
    "\n",
    "### \"What is the ratio/trend in 'airtime' that Shakespeare gives to men vs. women?\""
   ]
  },
  {
   "cell_type": "code",
   "execution_count": 1,
   "metadata": {},
   "outputs": [],
   "source": [
    "import warnings\n",
    "warnings.filterwarnings(\"ignore\")\n",
    "\n",
    "import pandas as pd\n",
    "import numpy as np\n",
    "import datetime as dt\n",
    "import seaborn as sns\n",
    "import matplotlib.pyplot as plt\n",
    "import math\n",
    "from statistics import mean, stdev"
   ]
  },
  {
   "cell_type": "code",
   "execution_count": 2,
   "metadata": {},
   "outputs": [],
   "source": [
    "df = pd.read_csv(\"../data/processed/genders.csv\")"
   ]
  },
  {
   "cell_type": "code",
   "execution_count": 3,
   "metadata": {},
   "outputs": [
    {
     "data": {
      "text/html": [
       "<div>\n",
       "<style scoped>\n",
       "    .dataframe tbody tr th:only-of-type {\n",
       "        vertical-align: middle;\n",
       "    }\n",
       "\n",
       "    .dataframe tbody tr th {\n",
       "        vertical-align: top;\n",
       "    }\n",
       "\n",
       "    .dataframe thead th {\n",
       "        text-align: right;\n",
       "    }\n",
       "</style>\n",
       "<table border=\"1\" class=\"dataframe\">\n",
       "  <thead>\n",
       "    <tr style=\"text-align: right;\">\n",
       "      <th></th>\n",
       "      <th>Unnamed: 0</th>\n",
       "      <th>Dataline</th>\n",
       "      <th>Play</th>\n",
       "      <th>PlayerLinenumber</th>\n",
       "      <th>ActSceneLine</th>\n",
       "      <th>Player</th>\n",
       "      <th>PlayerLine</th>\n",
       "      <th>Year</th>\n",
       "      <th>Gender</th>\n",
       "    </tr>\n",
       "  </thead>\n",
       "  <tbody>\n",
       "    <tr>\n",
       "      <th>0</th>\n",
       "      <td>0</td>\n",
       "      <td>37</td>\n",
       "      <td>Henry IV</td>\n",
       "      <td>2.0</td>\n",
       "      <td>1.1.34</td>\n",
       "      <td>WESTMORELAND</td>\n",
       "      <td>My liege, this haste was hot in question,</td>\n",
       "      <td>1597</td>\n",
       "      <td>0</td>\n",
       "    </tr>\n",
       "    <tr>\n",
       "      <th>1</th>\n",
       "      <td>1</td>\n",
       "      <td>38</td>\n",
       "      <td>Henry IV</td>\n",
       "      <td>2.0</td>\n",
       "      <td>1.1.35</td>\n",
       "      <td>WESTMORELAND</td>\n",
       "      <td>And many limits of the charge set down</td>\n",
       "      <td>1597</td>\n",
       "      <td>0</td>\n",
       "    </tr>\n",
       "    <tr>\n",
       "      <th>2</th>\n",
       "      <td>2</td>\n",
       "      <td>39</td>\n",
       "      <td>Henry IV</td>\n",
       "      <td>2.0</td>\n",
       "      <td>1.1.36</td>\n",
       "      <td>WESTMORELAND</td>\n",
       "      <td>But yesternight: when all athwart there came</td>\n",
       "      <td>1597</td>\n",
       "      <td>0</td>\n",
       "    </tr>\n",
       "    <tr>\n",
       "      <th>3</th>\n",
       "      <td>3</td>\n",
       "      <td>40</td>\n",
       "      <td>Henry IV</td>\n",
       "      <td>2.0</td>\n",
       "      <td>1.1.37</td>\n",
       "      <td>WESTMORELAND</td>\n",
       "      <td>A post from Wales loaden with heavy news,</td>\n",
       "      <td>1597</td>\n",
       "      <td>0</td>\n",
       "    </tr>\n",
       "    <tr>\n",
       "      <th>4</th>\n",
       "      <td>4</td>\n",
       "      <td>41</td>\n",
       "      <td>Henry IV</td>\n",
       "      <td>2.0</td>\n",
       "      <td>1.1.38</td>\n",
       "      <td>WESTMORELAND</td>\n",
       "      <td>Whose worst was, that the noble Mortimer,</td>\n",
       "      <td>1597</td>\n",
       "      <td>0</td>\n",
       "    </tr>\n",
       "  </tbody>\n",
       "</table>\n",
       "</div>"
      ],
      "text/plain": [
       "   Unnamed: 0  Dataline      Play  PlayerLinenumber ActSceneLine  \\\n",
       "0           0        37  Henry IV               2.0       1.1.34   \n",
       "1           1        38  Henry IV               2.0       1.1.35   \n",
       "2           2        39  Henry IV               2.0       1.1.36   \n",
       "3           3        40  Henry IV               2.0       1.1.37   \n",
       "4           4        41  Henry IV               2.0       1.1.38   \n",
       "\n",
       "         Player                                    PlayerLine  Year  Gender  \n",
       "0  WESTMORELAND     My liege, this haste was hot in question,  1597       0  \n",
       "1  WESTMORELAND        And many limits of the charge set down  1597       0  \n",
       "2  WESTMORELAND  But yesternight: when all athwart there came  1597       0  \n",
       "3  WESTMORELAND     A post from Wales loaden with heavy news,  1597       0  \n",
       "4  WESTMORELAND     Whose worst was, that the noble Mortimer,  1597       0  "
      ]
     },
     "execution_count": 3,
     "metadata": {},
     "output_type": "execute_result"
    }
   ],
   "source": [
    "df.head()"
   ]
  },
  {
   "cell_type": "markdown",
   "metadata": {},
   "source": [
    "### Important Notes\n",
    "* Gender column (0 = Male, 1 = Female)"
   ]
  }
 ],
 "metadata": {
  "kernelspec": {
   "display_name": "Python 3",
   "language": "python",
   "name": "python3"
  },
  "language_info": {
   "codemirror_mode": {
    "name": "ipython",
    "version": 3
   },
   "file_extension": ".py",
   "mimetype": "text/x-python",
   "name": "python",
   "nbconvert_exporter": "python",
   "pygments_lexer": "ipython3",
   "version": "3.7.4"
  }
 },
 "nbformat": 4,
 "nbformat_minor": 2
}
