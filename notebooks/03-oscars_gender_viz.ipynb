{
 "cells": [
  {
   "cell_type": "markdown",
   "metadata": {},
   "source": [
    "# The Oscars\n",
    "\n",
    "Dalton Hahn (2762306)"
   ]
  },
  {
   "cell_type": "markdown",
   "metadata": {},
   "source": [
    "## Shakespearean Play Data\n",
    "\n",
    "https://www.kaggle.com/kingburrito666/shakespeare-plays/download"
   ]
  },
  {
   "cell_type": "markdown",
   "metadata": {},
   "source": [
    "## Data Visualization and Storytelling\n",
    "\n",
    "### \"What is the ratio/trend in 'airtime' that Shakespeare gives to men vs. women?\""
   ]
  },
  {
   "cell_type": "code",
   "execution_count": 1,
   "metadata": {},
   "outputs": [],
   "source": [
    "import warnings\n",
    "warnings.filterwarnings(\"ignore\")\n",
    "\n",
    "import pandas as pd\n",
    "import numpy as np\n",
    "import datetime as dt\n",
    "import seaborn as sns\n",
    "import matplotlib.pyplot as plt\n",
    "import math\n",
    "from statistics import mean, stdev"
   ]
  },
  {
   "cell_type": "code",
   "execution_count": 2,
   "metadata": {},
   "outputs": [],
   "source": [
    "df = pd.read_csv(\"../data/processed/genders.csv\")"
   ]
  },
  {
   "cell_type": "code",
   "execution_count": 3,
   "metadata": {},
   "outputs": [
    {
     "data": {
      "text/html": [
       "<div>\n",
       "<style scoped>\n",
       "    .dataframe tbody tr th:only-of-type {\n",
       "        vertical-align: middle;\n",
       "    }\n",
       "\n",
       "    .dataframe tbody tr th {\n",
       "        vertical-align: top;\n",
       "    }\n",
       "\n",
       "    .dataframe thead th {\n",
       "        text-align: right;\n",
       "    }\n",
       "</style>\n",
       "<table border=\"1\" class=\"dataframe\">\n",
       "  <thead>\n",
       "    <tr style=\"text-align: right;\">\n",
       "      <th></th>\n",
       "      <th>Unnamed: 0</th>\n",
       "      <th>Dataline</th>\n",
       "      <th>Play</th>\n",
       "      <th>PlayerLinenumber</th>\n",
       "      <th>ActSceneLine</th>\n",
       "      <th>Player</th>\n",
       "      <th>PlayerLine</th>\n",
       "      <th>Year</th>\n",
       "      <th>Gender</th>\n",
       "    </tr>\n",
       "  </thead>\n",
       "  <tbody>\n",
       "    <tr>\n",
       "      <th>0</th>\n",
       "      <td>0</td>\n",
       "      <td>37</td>\n",
       "      <td>Henry IV</td>\n",
       "      <td>2.0</td>\n",
       "      <td>1.1.34</td>\n",
       "      <td>WESTMORELAND</td>\n",
       "      <td>My liege, this haste was hot in question,</td>\n",
       "      <td>1597</td>\n",
       "      <td>0</td>\n",
       "    </tr>\n",
       "    <tr>\n",
       "      <th>1</th>\n",
       "      <td>1</td>\n",
       "      <td>38</td>\n",
       "      <td>Henry IV</td>\n",
       "      <td>2.0</td>\n",
       "      <td>1.1.35</td>\n",
       "      <td>WESTMORELAND</td>\n",
       "      <td>And many limits of the charge set down</td>\n",
       "      <td>1597</td>\n",
       "      <td>0</td>\n",
       "    </tr>\n",
       "    <tr>\n",
       "      <th>2</th>\n",
       "      <td>2</td>\n",
       "      <td>39</td>\n",
       "      <td>Henry IV</td>\n",
       "      <td>2.0</td>\n",
       "      <td>1.1.36</td>\n",
       "      <td>WESTMORELAND</td>\n",
       "      <td>But yesternight: when all athwart there came</td>\n",
       "      <td>1597</td>\n",
       "      <td>0</td>\n",
       "    </tr>\n",
       "    <tr>\n",
       "      <th>3</th>\n",
       "      <td>3</td>\n",
       "      <td>40</td>\n",
       "      <td>Henry IV</td>\n",
       "      <td>2.0</td>\n",
       "      <td>1.1.37</td>\n",
       "      <td>WESTMORELAND</td>\n",
       "      <td>A post from Wales loaden with heavy news,</td>\n",
       "      <td>1597</td>\n",
       "      <td>0</td>\n",
       "    </tr>\n",
       "    <tr>\n",
       "      <th>4</th>\n",
       "      <td>4</td>\n",
       "      <td>41</td>\n",
       "      <td>Henry IV</td>\n",
       "      <td>2.0</td>\n",
       "      <td>1.1.38</td>\n",
       "      <td>WESTMORELAND</td>\n",
       "      <td>Whose worst was, that the noble Mortimer,</td>\n",
       "      <td>1597</td>\n",
       "      <td>0</td>\n",
       "    </tr>\n",
       "  </tbody>\n",
       "</table>\n",
       "</div>"
      ],
      "text/plain": [
       "   Unnamed: 0  Dataline      Play  PlayerLinenumber ActSceneLine  \\\n",
       "0           0        37  Henry IV               2.0       1.1.34   \n",
       "1           1        38  Henry IV               2.0       1.1.35   \n",
       "2           2        39  Henry IV               2.0       1.1.36   \n",
       "3           3        40  Henry IV               2.0       1.1.37   \n",
       "4           4        41  Henry IV               2.0       1.1.38   \n",
       "\n",
       "         Player                                    PlayerLine  Year  Gender  \n",
       "0  WESTMORELAND     My liege, this haste was hot in question,  1597       0  \n",
       "1  WESTMORELAND        And many limits of the charge set down  1597       0  \n",
       "2  WESTMORELAND  But yesternight: when all athwart there came  1597       0  \n",
       "3  WESTMORELAND     A post from Wales loaden with heavy news,  1597       0  \n",
       "4  WESTMORELAND     Whose worst was, that the noble Mortimer,  1597       0  "
      ]
     },
     "execution_count": 3,
     "metadata": {},
     "output_type": "execute_result"
    }
   ],
   "source": [
    "df.head()"
   ]
  },
  {
   "cell_type": "markdown",
   "metadata": {},
   "source": [
    "### Important Notes\n",
    "* Gender column (0 = Male, 1 = Female)"
   ]
  },
  {
   "cell_type": "code",
   "execution_count": 4,
   "metadata": {},
   "outputs": [
    {
     "name": "stdout",
     "output_type": "stream",
     "text": [
      "['Henry IV' 'Henry VI Part 3' 'Henry V' 'Merry Wives of Windsor'\n",
      " 'Richard II' 'Henry VIII' 'Taming of the Shrew' 'Henry VI Part 2'\n",
      " 'Richard III' 'Henry VI Part 1' 'Antony and Cleopatra' 'Coriolanus'\n",
      " 'Cymbeline' 'Hamlet' 'King John' 'Julius Caesar' 'King Lear' 'macbeth'\n",
      " 'Measure for measure' 'Much Ado about nothing' 'Othello' 'Pericles'\n",
      " 'Timon of Athens' 'Titus Andronicus' 'As you like it'\n",
      " 'Troilus and Cressida' 'Twelfth Night' 'A Winters Tale'\n",
      " 'Romeo and Juliet' 'The Tempest' 'Merchant of Venice'\n",
      " 'Alls well that ends well' 'A Midsummer nights dream'\n",
      " 'Two Gentlemen of Verona' 'Loves Labours Lost' 'A Comedy of Errors']\n"
     ]
    }
   ],
   "source": [
    "unique_plays = df[\"Play\"].unique()\n",
    "print(unique_plays)"
   ]
  },
  {
   "cell_type": "code",
   "execution_count": 5,
   "metadata": {},
   "outputs": [],
   "source": [
    "# NOTE, in my gender_word_counts dictionary, the tuple of counts will be (MALE, FEMALE)\n",
    "gender_word_counts = dict.fromkeys(unique_plays, (0,0))\n",
    "\n",
    "for index,row in df.iterrows():\n",
    "    if row[\"Gender\"] == 0:\n",
    "        gen_tuple = gender_word_counts.get(row[\"Play\"])\n",
    "        new_male_val = gen_tuple[0] + len(row[\"PlayerLine\"].split())\n",
    "        fin_tuple = (new_male_val, gen_tuple[1])\n",
    "    else:\n",
    "        gen_tuple = gender_word_counts.get(row[\"Play\"])\n",
    "        new_female_val = gen_tuple[1] + len(row[\"PlayerLine\"].split())\n",
    "        fin_tuple = (gen_tuple[0], new_female_val)\n",
    "    \n",
    "    gender_word_counts[row[\"Play\"]] = fin_tuple"
   ]
  },
  {
   "cell_type": "code",
   "execution_count": 6,
   "metadata": {},
   "outputs": [
    {
     "name": "stdout",
     "output_type": "stream",
     "text": [
      "{'Henry IV': (13351, 412), 'Henry VI Part 3': (11199, 0), 'Henry V': (10868, 2201), 'Merry Wives of Windsor': (9724, 0), 'Richard II': (2666, 911), 'Henry VIII': (9948, 693), 'Taming of the Shrew': (17145, 646), 'Henry VI Part 2': (17030, 0), 'Richard III': (13645, 0), 'Henry VI Part 1': (13894, 253), 'Antony and Cleopatra': (5212, 5707), 'Coriolanus': (15395, 3008), 'Cymbeline': (14789, 5593), 'Hamlet': (17872, 1178), 'King John': (8918, 2112), 'Julius Caesar': (15740, 720), 'King Lear': (14904, 3671), 'macbeth': (12546, 181), 'Measure for measure': (10308, 3556), 'Much Ado about nothing': (12336, 4247), 'Othello': (20015, 4819), 'Pericles': (12053, 3517), 'Timon of Athens': (12691, 48), 'Titus Andronicus': (8949, 2579), 'As you like it': (9948, 7950), 'Troilus and Cressida': (22701, 2657), 'Twelfth Night': (7715, 6079), 'A Winters Tale': (15531, 5183), 'Romeo and Juliet': (11767, 6581), 'The Tempest': (14755, 910), 'Merchant of Venice': (12587, 6009), 'Alls well that ends well': (10019, 7357), 'A Midsummer nights dream': (8902, 4501), 'Two Gentlemen of Verona': (10146, 2982), 'Loves Labours Lost': (7831, 3939), 'A Comedy of Errors': (759, 2959)}\n"
     ]
    }
   ],
   "source": [
    "print(gender_word_counts)"
   ]
  },
  {
   "cell_type": "code",
   "execution_count": 7,
   "metadata": {},
   "outputs": [
    {
     "name": "stdout",
     "output_type": "stream",
     "text": [
      "[13351, 11199, 10868, 9724, 2666, 9948, 17145, 17030, 13645, 13894, 5212, 15395, 14789, 17872, 8918, 15740, 14904, 12546, 10308, 12336, 20015, 12053, 12691, 8949, 9948, 22701, 7715, 15531, 11767, 14755, 12587, 10019, 8902, 10146, 7831, 759]\n",
      "[412, 0, 2201, 0, 911, 693, 646, 0, 0, 253, 5707, 3008, 5593, 1178, 2112, 720, 3671, 181, 3556, 4247, 4819, 3517, 48, 2579, 7950, 2657, 6079, 5183, 6581, 910, 6009, 7357, 4501, 2982, 3939, 2959]\n"
     ]
    }
   ],
   "source": [
    "# INSPIRATION: https://python-graph-gallery.com/11-grouped-barplot/\n",
    "\n",
    "# set width of bar\n",
    "barWidth = 0.4\n",
    " \n",
    "# set height of bar\n",
    "male_bars = []\n",
    "female_bars = []\n",
    "\n",
    "for key,val in gender_word_counts.items():\n",
    "    male_bars.append(val[0])\n",
    "    female_bars.append(val[1])\n",
    "    \n",
    "print(male_bars)\n",
    "print(female_bars)"
   ]
  },
  {
   "cell_type": "code",
   "execution_count": 8,
   "metadata": {},
   "outputs": [
    {
     "data": {
      "image/png": "[encoded data removed]",
      "text/plain": [
       "<Figure size 1800x576 with 1 Axes>"
      ]
     },
     "metadata": {
      "needs_background": "light"
     },
     "output_type": "display_data"
    }
   ],
   "source": [
    " \n",
    "# Set position of bar on X axis\n",
    "r1 = np.arange(len(male_bars))\n",
    "r2 = [x + barWidth for x in r1]\n",
    " \n",
    "# Make the plot\n",
    "plt.figure(figsize=(25,8))\n",
    "plt.bar(r1, male_bars, color='#886bff', width=barWidth, edgecolor='white', label='Male Words')\n",
    "plt.bar(r2, female_bars, color='#ffb0fe', width=barWidth, edgecolor='white', label='Female Words')\n",
    " \n",
    "# Add xticks on the middle of the group bars\n",
    "plt.xlabel('Play', fontweight='bold')\n",
    "plt.xticks([r + barWidth for r in range(len(male_bars))], list(gender_word_counts.keys()), rotation=90)\n",
    " \n",
    "# Create legend & Show graphic\n",
    "plt.legend()\n",
    "plt.show()"
   ]
  },
  {
   "cell_type": "markdown",
   "metadata": {},
   "source": [
    "# Conclusion\n",
    "\n",
    "**Caveat**: Only had gender data for some characters in some of the plays\n",
    "\n",
    "I think this bar chart turned out pretty good even though there was quite a bit of missing data.  I also think that some of the results are fairly surprising given the time that many of these plays were written.  For example, \"A Comedy of Errors\" seems to have a surprising number of female lines in the play, along with \"As You Like It\" having near comparable female lines to male lines.  Also, \"Romeo and Juliet\" confirms my initial thoughts on distribution for that play."
   ]
  }
 ],
 "metadata": {
  "kernelspec": {
   "display_name": "Python 3",
   "language": "python",
   "name": "python3"
  },
  "language_info": {
   "codemirror_mode": {
    "name": "ipython",
    "version": 3
   },
   "file_extension": ".py",
   "mimetype": "text/x-python",
   "name": "python",
   "nbconvert_exporter": "python",
   "pygments_lexer": "ipython3",
   "version": "3.7.4"
  }
 },
 "nbformat": 4,
 "nbformat_minor": 2
}
