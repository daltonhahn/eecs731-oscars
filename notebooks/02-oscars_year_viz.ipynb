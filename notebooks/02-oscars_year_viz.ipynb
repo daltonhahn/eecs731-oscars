{
 "cells": [
  {
   "cell_type": "markdown",
   "metadata": {},
   "source": [
    "# The Oscars\n",
    "\n",
    "Dalton Hahn (2762306)"
   ]
  },
  {
   "cell_type": "markdown",
   "metadata": {},
   "source": [
    "## Shakespearean Play Data\n",
    "\n",
    "https://www.kaggle.com/kingburrito666/shakespeare-plays/download"
   ]
  },
  {
   "cell_type": "markdown",
   "metadata": {},
   "source": [
    "## Data Visualization and Storytelling\n",
    "\n",
    "### \"Does Shakespeare become more verbose with his later plays than his earlier plays?\""
   ]
  },
  {
   "cell_type": "code",
   "execution_count": 1,
   "metadata": {},
   "outputs": [],
   "source": [
    "import warnings\n",
    "warnings.filterwarnings(\"ignore\")\n",
    "\n",
    "import pandas as pd\n",
    "import numpy as np\n",
    "import datetime as dt\n",
    "import seaborn as sns\n",
    "import matplotlib.pyplot as plt\n",
    "import math\n",
    "from statistics import mean, stdev\n",
    "import re"
   ]
  },
  {
   "cell_type": "code",
   "execution_count": 2,
   "metadata": {},
   "outputs": [],
   "source": [
    "df = pd.read_csv(\"../data/processed/play_year.csv\")"
   ]
  },
  {
   "cell_type": "code",
   "execution_count": 3,
   "metadata": {},
   "outputs": [
    {
     "data": {
      "text/html": [
       "<div>\n",
       "<style scoped>\n",
       "    .dataframe tbody tr th:only-of-type {\n",
       "        vertical-align: middle;\n",
       "    }\n",
       "\n",
       "    .dataframe tbody tr th {\n",
       "        vertical-align: top;\n",
       "    }\n",
       "\n",
       "    .dataframe thead th {\n",
       "        text-align: right;\n",
       "    }\n",
       "</style>\n",
       "<table border=\"1\" class=\"dataframe\">\n",
       "  <thead>\n",
       "    <tr style=\"text-align: right;\">\n",
       "      <th></th>\n",
       "      <th>Unnamed: 0</th>\n",
       "      <th>Dataline</th>\n",
       "      <th>Play</th>\n",
       "      <th>PlayerLinenumber</th>\n",
       "      <th>ActSceneLine</th>\n",
       "      <th>Player</th>\n",
       "      <th>PlayerLine</th>\n",
       "      <th>Year</th>\n",
       "    </tr>\n",
       "  </thead>\n",
       "  <tbody>\n",
       "    <tr>\n",
       "      <th>0</th>\n",
       "      <td>0</td>\n",
       "      <td>4</td>\n",
       "      <td>Henry IV</td>\n",
       "      <td>1.0</td>\n",
       "      <td>1.1.1</td>\n",
       "      <td>KING HENRY IV</td>\n",
       "      <td>So shaken as we are, so wan with care,</td>\n",
       "      <td>1597</td>\n",
       "    </tr>\n",
       "    <tr>\n",
       "      <th>1</th>\n",
       "      <td>1</td>\n",
       "      <td>5</td>\n",
       "      <td>Henry IV</td>\n",
       "      <td>1.0</td>\n",
       "      <td>1.1.2</td>\n",
       "      <td>KING HENRY IV</td>\n",
       "      <td>Find we a time for frighted peace to pant,</td>\n",
       "      <td>1597</td>\n",
       "    </tr>\n",
       "    <tr>\n",
       "      <th>2</th>\n",
       "      <td>2</td>\n",
       "      <td>6</td>\n",
       "      <td>Henry IV</td>\n",
       "      <td>1.0</td>\n",
       "      <td>1.1.3</td>\n",
       "      <td>KING HENRY IV</td>\n",
       "      <td>And breathe short-winded accents of new broils</td>\n",
       "      <td>1597</td>\n",
       "    </tr>\n",
       "    <tr>\n",
       "      <th>3</th>\n",
       "      <td>3</td>\n",
       "      <td>7</td>\n",
       "      <td>Henry IV</td>\n",
       "      <td>1.0</td>\n",
       "      <td>1.1.4</td>\n",
       "      <td>KING HENRY IV</td>\n",
       "      <td>To be commenced in strands afar remote.</td>\n",
       "      <td>1597</td>\n",
       "    </tr>\n",
       "    <tr>\n",
       "      <th>4</th>\n",
       "      <td>4</td>\n",
       "      <td>8</td>\n",
       "      <td>Henry IV</td>\n",
       "      <td>1.0</td>\n",
       "      <td>1.1.5</td>\n",
       "      <td>KING HENRY IV</td>\n",
       "      <td>No more the thirsty entrance of this soil</td>\n",
       "      <td>1597</td>\n",
       "    </tr>\n",
       "  </tbody>\n",
       "</table>\n",
       "</div>"
      ],
      "text/plain": [
       "   Unnamed: 0  Dataline      Play  PlayerLinenumber ActSceneLine  \\\n",
       "0           0         4  Henry IV               1.0        1.1.1   \n",
       "1           1         5  Henry IV               1.0        1.1.2   \n",
       "2           2         6  Henry IV               1.0        1.1.3   \n",
       "3           3         7  Henry IV               1.0        1.1.4   \n",
       "4           4         8  Henry IV               1.0        1.1.5   \n",
       "\n",
       "          Player                                      PlayerLine  Year  \n",
       "0  KING HENRY IV          So shaken as we are, so wan with care,  1597  \n",
       "1  KING HENRY IV      Find we a time for frighted peace to pant,  1597  \n",
       "2  KING HENRY IV  And breathe short-winded accents of new broils  1597  \n",
       "3  KING HENRY IV         To be commenced in strands afar remote.  1597  \n",
       "4  KING HENRY IV       No more the thirsty entrance of this soil  1597  "
      ]
     },
     "execution_count": 3,
     "metadata": {},
     "output_type": "execute_result"
    }
   ],
   "source": [
    "df.head()"
   ]
  },
  {
   "cell_type": "markdown",
   "metadata": {},
   "source": [
    "## Number of lines per year"
   ]
  },
  {
   "cell_type": "code",
   "execution_count": 4,
   "metadata": {},
   "outputs": [
    {
     "data": {
      "image/png": "[encoded data removed]",
      "text/plain": [
       "<Figure size 1800x576 with 1 Axes>"
      ]
     },
     "metadata": {
      "needs_background": "light"
     },
     "output_type": "display_data"
    }
   ],
   "source": [
    "num_bins = max(df[\"Year\"]) - min(df[\"Year\"])\n",
    "plt.figure(figsize=(25,8))\n",
    "plt.hist(df[\"Year\"], num_bins, align='left', width=0.8, edgecolor=\"black\")\n",
    "plt.xticks(range(min(df[\"Year\"]), max(df[\"Year\"])))\n",
    "plt.show()"
   ]
  },
  {
   "cell_type": "markdown",
   "metadata": {},
   "source": [
    "## Let's calculate the number of words in each of Shakespeare's plays and then group them into a bar chart based on year"
   ]
  },
  {
   "cell_type": "code",
   "execution_count": 5,
   "metadata": {},
   "outputs": [],
   "source": [
    "# Number of Words per Year\n",
    "\n",
    "for index, row in df.iterrows():\n",
    "    row = row.copy()\n",
    "    num_words = len(re.findall(r'\\w+', row[\"PlayerLine\"]))\n",
    "\n",
    "    df.loc[index, \"Words\"] = num_words"
   ]
  },
  {
   "cell_type": "code",
   "execution_count": 6,
   "metadata": {},
   "outputs": [
    {
     "data": {
      "text/html": [
       "<div>\n",
       "<style scoped>\n",
       "    .dataframe tbody tr th:only-of-type {\n",
       "        vertical-align: middle;\n",
       "    }\n",
       "\n",
       "    .dataframe tbody tr th {\n",
       "        vertical-align: top;\n",
       "    }\n",
       "\n",
       "    .dataframe thead th {\n",
       "        text-align: right;\n",
       "    }\n",
       "</style>\n",
       "<table border=\"1\" class=\"dataframe\">\n",
       "  <thead>\n",
       "    <tr style=\"text-align: right;\">\n",
       "      <th></th>\n",
       "      <th>Unnamed: 0</th>\n",
       "      <th>Dataline</th>\n",
       "      <th>Play</th>\n",
       "      <th>PlayerLinenumber</th>\n",
       "      <th>ActSceneLine</th>\n",
       "      <th>Player</th>\n",
       "      <th>PlayerLine</th>\n",
       "      <th>Year</th>\n",
       "      <th>Words</th>\n",
       "    </tr>\n",
       "  </thead>\n",
       "  <tbody>\n",
       "    <tr>\n",
       "      <th>0</th>\n",
       "      <td>0</td>\n",
       "      <td>4</td>\n",
       "      <td>Henry IV</td>\n",
       "      <td>1.0</td>\n",
       "      <td>1.1.1</td>\n",
       "      <td>KING HENRY IV</td>\n",
       "      <td>So shaken as we are, so wan with care,</td>\n",
       "      <td>1597</td>\n",
       "      <td>9.0</td>\n",
       "    </tr>\n",
       "    <tr>\n",
       "      <th>1</th>\n",
       "      <td>1</td>\n",
       "      <td>5</td>\n",
       "      <td>Henry IV</td>\n",
       "      <td>1.0</td>\n",
       "      <td>1.1.2</td>\n",
       "      <td>KING HENRY IV</td>\n",
       "      <td>Find we a time for frighted peace to pant,</td>\n",
       "      <td>1597</td>\n",
       "      <td>9.0</td>\n",
       "    </tr>\n",
       "    <tr>\n",
       "      <th>2</th>\n",
       "      <td>2</td>\n",
       "      <td>6</td>\n",
       "      <td>Henry IV</td>\n",
       "      <td>1.0</td>\n",
       "      <td>1.1.3</td>\n",
       "      <td>KING HENRY IV</td>\n",
       "      <td>And breathe short-winded accents of new broils</td>\n",
       "      <td>1597</td>\n",
       "      <td>8.0</td>\n",
       "    </tr>\n",
       "    <tr>\n",
       "      <th>3</th>\n",
       "      <td>3</td>\n",
       "      <td>7</td>\n",
       "      <td>Henry IV</td>\n",
       "      <td>1.0</td>\n",
       "      <td>1.1.4</td>\n",
       "      <td>KING HENRY IV</td>\n",
       "      <td>To be commenced in strands afar remote.</td>\n",
       "      <td>1597</td>\n",
       "      <td>7.0</td>\n",
       "    </tr>\n",
       "    <tr>\n",
       "      <th>4</th>\n",
       "      <td>4</td>\n",
       "      <td>8</td>\n",
       "      <td>Henry IV</td>\n",
       "      <td>1.0</td>\n",
       "      <td>1.1.5</td>\n",
       "      <td>KING HENRY IV</td>\n",
       "      <td>No more the thirsty entrance of this soil</td>\n",
       "      <td>1597</td>\n",
       "      <td>8.0</td>\n",
       "    </tr>\n",
       "  </tbody>\n",
       "</table>\n",
       "</div>"
      ],
      "text/plain": [
       "   Unnamed: 0  Dataline      Play  PlayerLinenumber ActSceneLine  \\\n",
       "0           0         4  Henry IV               1.0        1.1.1   \n",
       "1           1         5  Henry IV               1.0        1.1.2   \n",
       "2           2         6  Henry IV               1.0        1.1.3   \n",
       "3           3         7  Henry IV               1.0        1.1.4   \n",
       "4           4         8  Henry IV               1.0        1.1.5   \n",
       "\n",
       "          Player                                      PlayerLine  Year  Words  \n",
       "0  KING HENRY IV          So shaken as we are, so wan with care,  1597    9.0  \n",
       "1  KING HENRY IV      Find we a time for frighted peace to pant,  1597    9.0  \n",
       "2  KING HENRY IV  And breathe short-winded accents of new broils  1597    8.0  \n",
       "3  KING HENRY IV         To be commenced in strands afar remote.  1597    7.0  \n",
       "4  KING HENRY IV       No more the thirsty entrance of this soil  1597    8.0  "
      ]
     },
     "execution_count": 6,
     "metadata": {},
     "output_type": "execute_result"
    }
   ],
   "source": [
    "df.head()"
   ]
  },
  {
   "cell_type": "code",
   "execution_count": 7,
   "metadata": {},
   "outputs": [],
   "source": [
    "plays = df[\"Play\"].unique()\n",
    "p_years = list()\n",
    "counter = 0\n",
    "\n",
    "for play in plays:\n",
    "    for index,row in df.iterrows():\n",
    "        if row[\"Play\"] == play:\n",
    "            year = row[\"Year\"]\n",
    "            p_years.append(str(year)+play)\n",
    "            break"
   ]
  },
  {
   "cell_type": "code",
   "execution_count": 8,
   "metadata": {},
   "outputs": [
    {
     "name": "stdout",
     "output_type": "stream",
     "text": [
      "dict_keys(['1597Henry IV', '1591Henry VI Part 1', '1591Henry VI Part 2', '1591Henry VI Part 3', '1598Alls well that ends well', '1599As you like it', '1607Antony and Cleopatra', '1594A Comedy of Errors', '1605Coriolanus', '1611Cymbeline', '1599Hamlet', '1599Henry V', '1613Henry VIII', '1595King John', '1599Julius Caesar', '1605King Lear', '1598Loves Labours Lost', '1606macbeth', '1603Measure for measure', '1596Merchant of Venice', '1602Merry Wives of Windsor', '1595A Midsummer nights dream', '1598Much Ado about nothing', '1603Othello', '1607Pericles', '1595Richard II', '1593Richard III', '1591Romeo and Juliet', '1590Taming of the Shrew', '1610The Tempest', '1605Timon of Athens', '1588Titus Andronicus', '1602Troilus and Cressida', '1601Twelfth Night', '1589Two Gentlemen of Verona', '1610A Winters Tale'])\n"
     ]
    }
   ],
   "source": [
    "word_counts = dict.fromkeys(p_years, 0)\n",
    "print(word_counts.keys())\n",
    "\n",
    "for index, row in df.iterrows():\n",
    "    test_key = (row[\"Play\"]+str(row[\"Year\"]))\n",
    "    #print(test_key)"
   ]
  },
  {
   "cell_type": "markdown",
   "metadata": {},
   "source": [
    "## Now let's group these word counts by the year they were written"
   ]
  },
  {
   "cell_type": "code",
   "execution_count": 9,
   "metadata": {},
   "outputs": [
    {
     "data": {
      "text/plain": [
       "'\\nbarWidth = 0.25\\n \\n# set height of bar\\nbars1 = [12, 30, 1, 8, 22]\\nbars2 = [28, 6, 16, 5, 10]\\nbars3 = [29, 3, 24, 25, 17]\\n \\n# Set position of bar on X axis\\nr1 = np.arange(len(bars1))\\nr2 = [x + barWidth for x in r1]\\nr3 = [x + barWidth for x in r2]\\n \\n# Make the plot\\nplt.figure(figsize=(25,8))\\nplt.bar(r1, bars1, color=\\'#7f6d5f\\', width=barWidth, edgecolor=\\'white\\', label=\\'var1\\')\\nplt.bar(r2, bars2, color=\\'#557f2d\\', width=barWidth, edgecolor=\\'white\\', label=\\'var2\\')\\nplt.bar(r3, bars3, color=\\'#2d7f5e\\', width=barWidth, edgecolor=\\'white\\', label=\\'var3\\')\\n \\n# Add xticks on the middle of the group bars\\nplt.xlabel(\\'year\\', fontweight=\\'bold\\')\\nplt.xticks(range(min(df[\"Year\"]), max(df[\"Year\"])))\\n \\n# Create legend & Show graphic\\nplt.legend()\\nplt.show()\\n'"
      ]
     },
     "execution_count": 9,
     "metadata": {},
     "output_type": "execute_result"
    }
   ],
   "source": [
    "# bars for each year (list of word counts for that year)\n",
    "# position year bars together\n",
    "# plot year by year with color\n",
    "\n",
    "# set width of bar\n",
    "\"\"\"\n",
    "barWidth = 0.25\n",
    " \n",
    "# set height of bar\n",
    "bars1 = [12, 30, 1, 8, 22]\n",
    "bars2 = [28, 6, 16, 5, 10]\n",
    "bars3 = [29, 3, 24, 25, 17]\n",
    " \n",
    "# Set position of bar on X axis\n",
    "r1 = np.arange(len(bars1))\n",
    "r2 = [x + barWidth for x in r1]\n",
    "r3 = [x + barWidth for x in r2]\n",
    " \n",
    "# Make the plot\n",
    "plt.figure(figsize=(25,8))\n",
    "plt.bar(r1, bars1, color='#7f6d5f', width=barWidth, edgecolor='white', label='var1')\n",
    "plt.bar(r2, bars2, color='#557f2d', width=barWidth, edgecolor='white', label='var2')\n",
    "plt.bar(r3, bars3, color='#2d7f5e', width=barWidth, edgecolor='white', label='var3')\n",
    " \n",
    "# Add xticks on the middle of the group bars\n",
    "plt.xlabel('year', fontweight='bold')\n",
    "plt.xticks(range(min(df[\"Year\"]), max(df[\"Year\"])))\n",
    " \n",
    "# Create legend & Show graphic\n",
    "plt.legend()\n",
    "plt.show()\n",
    "\"\"\""
   ]
  },
  {
   "cell_type": "markdown",
   "metadata": {},
   "source": [
    "## CONCLUSIONS\n",
    "\n",
    "This notebook turned out to be a lot more of a headache than I anticipated and grouping word/line count based on year became a more tedious process than initially planned for.  The remaining notebooks show three other visualizations that better reflect and more clearly show some of the properties of Shakespeare's work."
   ]
  }
 ],
 "metadata": {
  "kernelspec": {
   "display_name": "Python 3",
   "language": "python",
   "name": "python3"
  },
  "language_info": {
   "codemirror_mode": {
    "name": "ipython",
    "version": 3
   },
   "file_extension": ".py",
   "mimetype": "text/x-python",
   "name": "python",
   "nbconvert_exporter": "python",
   "pygments_lexer": "ipython3",
   "version": "3.7.4"
  }
 },
 "nbformat": 4,
 "nbformat_minor": 2
}
